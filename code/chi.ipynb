{
 "cells": [
  {
   "cell_type": "code",
   "execution_count": 1,
   "metadata": {
    "collapsed": true
   },
   "outputs": [],
   "source": [
    "import itertools\n",
    "import numpy as np\n",
    "import scipy.stats\n",
    "import matplotlib.pyplot as plt\n",
    "from statsmodels.sandbox.stats.multicomp import multipletests"
   ]
  },
  {
   "cell_type": "code",
   "execution_count": 2,
   "metadata": {
    "collapsed": true
   },
   "outputs": [],
   "source": [
    "Reliable = [12664, 4010, 4861, 4344, 3164, 1336, 1727, 1047, 646]\n",
    "Unreliable = [7863, 2836, 2976, 2338, 1840, 826, 199, 590, 322] \n",
    "Lookup = {'Pronouns': 0, 'PPronouns': 1, 'Adverbs': 2,\n",
    "          'PosEmotion': 3, 'NegEmotion': 4, 'Anxious': 5,\n",
    "          'Anger': 6, 'Sad': 7, 'Religious': 8}\n",
    "# number of values to calculate with chi square\n",
    "num = 2\n",
    "# modifier for if we want to get similiar sample sizes\n",
    "# degrees of freedom for chi square calculation\n",
    "deg_free = (2-1)*(num-1)\n",
    "\n",
    "fig, ax = plt.subplots(1, 1)"
   ]
  },
  {
   "cell_type": "code",
   "execution_count": 5,
   "metadata": {
    "collapsed": true
   },
   "outputs": [],
   "source": [
    "def chi_calc(combos):\n",
    "    for x in combos:\n",
    "        row1 = []\n",
    "        row2 = []\n",
    "        for y in x:\n",
    "            row1.append(adjust[Lookup.get(y)])\n",
    "            row2.append(Unreliable[Lookup.get(y)])\n",
    "        table = np.array([row1, row2])\n",
    "        \n",
    "        chi2, p, dof, expected = scipy.stats.chi2_contingency(table)\n",
    "        msg = \"Test Statistic: {}\\np-value: {}\\nDegrees of Freedom: {}\"\n",
    "        if p < (0.05/8):\n",
    "            print(x)\n",
    "            print(msg.format(chi2, p, dof))\n",
    "            print(\"Reject: {0}\".format(p<(0.05/8)))\n",
    "            print()\n",
    "        #Bonferroni Correction\n",
    "        #Adjusted P-value is 0.00625\n",
    "        #All values involving anger are disproved to be independent\n",
    "        #to other values\n",
    "        #if p < (0.05/8):\n",
    "        #    print(x)\n",
    "        #    print(p)\n",
    "        #    bleh = multipletests(p, method='bonferroni')\n",
    "        #    print(bleh)\n",
    "        #    print()"
   ]
  },
  {
   "cell_type": "code",
   "execution_count": 6,
   "metadata": {
    "scrolled": true
   },
   "outputs": [
    {
     "name": "stdout",
     "output_type": "stream",
     "text": [
      "('Pronouns', 'PPronouns')\n",
      "Test Statistic: 15.286983927628285\n",
      "p-value: 9.235067001780011e-05\n",
      "Degrees of Freedom: 1\n",
      "Reject: True\n",
      "\n",
      "('Pronouns', 'PosEmotion')\n",
      "Test Statistic: 17.798225681268335\n",
      "p-value: 2.4561217963609615e-05\n",
      "Degrees of Freedom: 1\n",
      "Reject: True\n",
      "\n",
      "('Pronouns', 'Anger')\n",
      "Test Statistic: 538.1223664534863\n",
      "p-value: 4.829576284794922e-119\n",
      "Degrees of Freedom: 1\n",
      "Reject: True\n",
      "\n",
      "('PPronouns', 'Adverbs')\n",
      "Test Statistic: 13.30188397514079\n",
      "p-value: 0.00026513956569085577\n",
      "Degrees of Freedom: 1\n",
      "Reject: True\n",
      "\n",
      "('PPronouns', 'PosEmotion')\n",
      "Test Statistic: 44.01984371144262\n",
      "p-value: 3.250635896581488e-11\n",
      "Degrees of Freedom: 1\n",
      "Reject: True\n",
      "\n",
      "('PPronouns', 'NegEmotion')\n",
      "Test Statistic: 19.311074711325915\n",
      "p-value: 1.1106031184490459e-05\n",
      "Degrees of Freedom: 1\n",
      "Reject: True\n",
      "\n",
      "('PPronouns', 'Anger')\n",
      "Test Statistic: 560.4743135681003\n",
      "p-value: 6.628876772187137e-124\n",
      "Degrees of Freedom: 1\n",
      "Reject: True\n",
      "\n",
      "('PPronouns', 'Sad')\n",
      "Test Statistic: 11.735525615225775\n",
      "p-value: 0.0006131826442872385\n",
      "Degrees of Freedom: 1\n",
      "Reject: True\n",
      "\n",
      "('PPronouns', 'Religious')\n",
      "Test Statistic: 17.629313530296947\n",
      "p-value: 2.684189682021026e-05\n",
      "Degrees of Freedom: 1\n",
      "Reject: True\n",
      "\n",
      "('Adverbs', 'PosEmotion')\n",
      "Test Statistic: 10.330997677109977\n",
      "p-value: 0.0013081447671236365\n",
      "Degrees of Freedom: 1\n",
      "Reject: True\n",
      "\n",
      "('Adverbs', 'Anger')\n",
      "Test Statistic: 473.656947487831\n",
      "p-value: 5.1285748009778025e-105\n",
      "Degrees of Freedom: 1\n",
      "Reject: True\n",
      "\n",
      "('PosEmotion', 'Anger')\n",
      "Test Statistic: 384.16710126668363\n",
      "p-value: 1.5407445933100085e-85\n",
      "Degrees of Freedom: 1\n",
      "Reject: True\n",
      "\n",
      "('NegEmotion', 'Anger')\n",
      "Test Statistic: 406.19377305617195\n",
      "p-value: 2.4697536804727402e-90\n",
      "Degrees of Freedom: 1\n",
      "Reject: True\n",
      "\n",
      "('Anxious', 'Anger')\n",
      "Test Statistic: 350.6140074046124\n",
      "p-value: 3.1148068794954384e-78\n",
      "Degrees of Freedom: 1\n",
      "Reject: True\n",
      "\n",
      "('Anger', 'Sad')\n",
      "Test Statistic: 280.11716154633484\n",
      "p-value: 7.080511401795134e-63\n",
      "Degrees of Freedom: 1\n",
      "Reject: True\n",
      "\n",
      "('Anger', 'Religious')\n",
      "Test Statistic: 186.68205896682912\n",
      "p-value: 1.6849953472143116e-42\n",
      "Degrees of Freedom: 1\n",
      "Reject: True\n",
      "\n"
     ]
    }
   ],
   "source": [
    "combos = itertools.combinations(Lookup, num)\n",
    "counter = 0\n",
    "adjust = []\n",
    "for b in Reliable:\n",
    "    adjust.append(Reliable[counter] * (127379/240714))\n",
    "    counter += 1\n",
    "chi_calc(combos)\n"
   ]
  },
  {
   "cell_type": "code",
   "execution_count": null,
   "metadata": {
    "collapsed": true
   },
   "outputs": [],
   "source": []
  },
  {
   "cell_type": "code",
   "execution_count": null,
   "metadata": {
    "collapsed": true
   },
   "outputs": [],
   "source": []
  }
 ],
 "metadata": {
  "kernelspec": {
   "display_name": "Python 3",
   "language": "python",
   "name": "python3"
  },
  "language_info": {
   "codemirror_mode": {
    "name": "ipython",
    "version": 3
   },
   "file_extension": ".py",
   "mimetype": "text/x-python",
   "name": "python",
   "nbconvert_exporter": "python",
   "pygments_lexer": "ipython3",
   "version": "3.6.1"
  }
 },
 "nbformat": 4,
 "nbformat_minor": 2
}
