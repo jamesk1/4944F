{
 "cells": [
  {
   "cell_type": "code",
   "execution_count": 5,
   "metadata": {},
   "outputs": [
    {
     "name": "stdout",
     "output_type": "stream",
     "text": [
      "Words that appear mostly on fake news articles\n",
      "NY Times Articles:\n",
      "The number of times certaintly appears: 0\n",
      "The number of times undoubtedly appears: 0\n",
      "The number of times definitely appears: 0\n",
      "The number of times probably appears: 0\n",
      "The number of times generally appears: 2\n",
      "The number of times usually appears: 1\n",
      "The number of times occasionally appears: 0\n",
      "The number of times possibly appears: 0\n",
      "The Onion News Articles:\n",
      "The number of times certaintly appears: 0\n",
      "The number of times undoubtedly appears: 0\n",
      "The number of times definitely appears: 0\n",
      "The number of times probably appears: 0\n",
      "The number of times generally appears: 0\n",
      "The number of times usually appears: 0\n",
      "The number of times occasionally appears: 0\n",
      "The number of times possibly appears: 0\n"
     ]
    }
   ],
   "source": [
    "# Robocop Testing Scraped News Articles\n",
    "\n",
    "# parsing the text file: \n",
    "# certaintly, undoubtedly, definitely, probably, generally, usually, occasionally, possibly\n",
    "r = open(\"modaladverbs.txt\", \"r\")\n",
    "txt = r.read().split()\n",
    "word1 = txt[0]\n",
    "word2 = txt[1]\n",
    "word3 = txt[2]\n",
    "word4 = txt[3]\n",
    "word5 = txt[4]\n",
    "word6 = txt[5]\n",
    "word7 = txt[6]\n",
    "word8 = txt[7]\n",
    "\n",
    "# opening the New York Times file\n",
    "k = open(\"nytexample.csv\", \"r\")\n",
    "ny = k.read().split() #words split up in New York Times articles\n",
    "\n",
    "# counting the number of occurrences\n",
    "\n",
    "print \"Words that appear mostly on fake news articles\" \n",
    "print \"NY Times Articles:\"\n",
    "test1 = ny.count(word1)\n",
    "print \"The number of times certaintly appears:\", test1\n",
    "test2 = ny.count(word2)\n",
    "print \"The number of times undoubtedly appears:\", test2\n",
    "test3 = ny.count(word3)\n",
    "print \"The number of times definitely appears:\", test3\n",
    "test4 = ny.count(word4)\n",
    "print \"The number of times probably appears:\", test4\n",
    "test5 = ny.count(word5)\n",
    "print \"The number of times generally appears:\", test5\n",
    "test6 = ny.count(word6)\n",
    "print \"The number of times usually appears:\", test6\n",
    "test7 = ny.count(word7)\n",
    "print \"The number of times occasionally appears:\", test7\n",
    "test8 = ny.count(word8)\n",
    "print \"The number of times possibly appears:\", test8\n",
    "\n",
    "# Fake news articles\n",
    "m = open(\"onionlinks.csv\", \"r\")\n",
    "fake = m.read().split() #words in The Onion news articles\n",
    "print \"The Onion News Articles:\"\n",
    "testo1 = fake.count(word1)\n",
    "print \"The number of times certaintly appears:\", testo1\n",
    "testo2 = fake.count(word2)\n",
    "print \"The number of times undoubtedly appears:\", testo2\n",
    "testo3 = fake.count(word3)\n",
    "print \"The number of times definitely appears:\", testo3\n",
    "testo4 = fake.count(word4)\n",
    "print \"The number of times probably appears:\", testo4\n",
    "testo5 = fake.count(word5)\n",
    "print \"The number of times generally appears:\", testo5\n",
    "testo6 = fake.count(word6)\n",
    "print \"The number of times usually appears:\", testo6\n",
    "testo7 = fake.count(word7)\n",
    "print \"The number of times occasionally appears:\", testo7\n",
    "testo8 = fake.count(word8)\n",
    "print \"The number of times possibly appears:\", testo8"
   ]
  },
  {
   "cell_type": "code",
   "execution_count": null,
   "metadata": {
    "collapsed": true
   },
   "outputs": [],
   "source": []
  }
 ],
 "metadata": {
  "kernelspec": {
   "display_name": "Python 2",
   "language": "python",
   "name": "python2"
  },
  "language_info": {
   "codemirror_mode": {
    "name": "ipython",
    "version": 2
   },
   "file_extension": ".py",
   "mimetype": "text/x-python",
   "name": "python",
   "nbconvert_exporter": "python",
   "pygments_lexer": "ipython2",
   "version": "2.7.13"
  }
 },
 "nbformat": 4,
 "nbformat_minor": 2
}
